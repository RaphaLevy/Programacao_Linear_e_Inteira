{
 "cells": [
  {
   "cell_type": "code",
   "execution_count": 1,
   "id": "1027cd4b",
   "metadata": {},
   "outputs": [],
   "source": [
    "import numpy as np\n",
    "from IPython.display import display, Math, Latex"
   ]
  },
  {
   "cell_type": "code",
   "execution_count": 2,
   "id": "8f7875bd",
   "metadata": {},
   "outputs": [],
   "source": [
    "def bmatrix(a):\n",
    "    if len(a.shape) > 2:\n",
    "        raise ValueError('bmatrix can at most display two dimensions')\n",
    "    lines = np.array2string(a, max_line_width=np.infty).replace('[', '').replace(']', '').splitlines()\n",
    "    rv = [r'\\begin{bmatrix}']\n",
    "    rv += ['  ' + ' & '.join(l.split()) + r'\\\\' for l in lines]\n",
    "    rv +=  [r'\\end{bmatrix}']\n",
    "    return '\\n'.join(rv)"
   ]
  },
  {
   "cell_type": "code",
   "execution_count": 3,
   "id": "22fc76e2",
   "metadata": {},
   "outputs": [],
   "source": [
    "def display_lp(A, b, c, z_bar):\n",
    "    code = '\\max \\{z(x) = ' + bmatrix(c.T) + ' x + ' + str(z_bar) + ' : ' + bmatrix(A) + ' x = ' + bmatrix(b) + ' , \\ x \\geq 0 \\}'\n",
    "    return display(Math(code))"
   ]
  },
  {
   "cell_type": "code",
   "execution_count": 4,
   "id": "435e2729",
   "metadata": {},
   "outputs": [],
   "source": [
    "def canonical_form(A, b, c, z_bar, B):\n",
    "    A_B = np.zeros((A.shape[0], A.shape[0]))\n",
    "    c_B = np.zeros((A.shape[0], 1))\n",
    "    count = 0\n",
    "    for n in B:\n",
    "        A_B[0:,count] = A[0:,n-1]\n",
    "        c_B[count] = c[n-1]\n",
    "        count += 1\n",
    "    A_B_inv = np.linalg.inv(A_B)\n",
    "    A_B_inv_T = A_B_inv.T\n",
    "    y = A_B_inv_T @ c_B\n",
    "    A_can = A_B_inv @ A\n",
    "    b_can = A_B_inv @ b\n",
    "    c_can = (c.T - y.T @ A).T\n",
    "    z_bar_can = y.T @ b + z_bar\n",
    "    z_bar_can = z_bar_can[0,0]\n",
    "    return A_can, b_can, c_can, z_bar_can"
   ]
  },
  {
   "cell_type": "code",
   "execution_count": 5,
   "id": "a0cc81ac",
   "metadata": {},
   "outputs": [
    {
     "name": "stdout",
     "output_type": "stream",
     "text": [
      "LP dado:\n"
     ]
    },
    {
     "data": {
      "text/latex": [
       "$\\displaystyle \\max \\{z(x) = \\begin{bmatrix}\n",
       "  1 & -2 & 0 & 1 & 3\\\\\n",
       "\\end{bmatrix} x + 0 : \\begin{bmatrix}\n",
       "  1 & -1 & 2 & -1 & 0\\\\\n",
       "  2 & 0 & 1 & -1 & 1\\\\\n",
       "\\end{bmatrix} x = \\begin{bmatrix}\n",
       "  1\\\\\n",
       "  -1\\\\\n",
       "\\end{bmatrix} , \\ x \\geq 0 \\}$"
      ],
      "text/plain": [
       "<IPython.core.display.Math object>"
      ]
     },
     "metadata": {},
     "output_type": "display_data"
    },
    {
     "name": "stdout",
     "output_type": "stream",
     "text": [
      "LP na forma canônica na base {1,4} :\n"
     ]
    },
    {
     "data": {
      "text/latex": [
       "$\\displaystyle \\max \\{z(x) = \\begin{bmatrix}\n",
       "  0. & -5. & 4. & 0. & 1.\\\\\n",
       "\\end{bmatrix} x + -5.0 : \\begin{bmatrix}\n",
       "  1. & 1. & -1. & 0. & 1.\\\\\n",
       "  0. & 2. & -3. & 1. & 1.\\\\\n",
       "\\end{bmatrix} x = \\begin{bmatrix}\n",
       "  -2.\\\\\n",
       "  -3.\\\\\n",
       "\\end{bmatrix} , \\ x \\geq 0 \\}$"
      ],
      "text/plain": [
       "<IPython.core.display.Math object>"
      ]
     },
     "metadata": {},
     "output_type": "display_data"
    }
   ],
   "source": [
    "A = np.array([[1, -1, 2, -1, 0],\n",
    "            [2, 0, 1, -1, 1]])\n",
    "b = np.array([[1], [-1]])\n",
    "c = np.array([[1], [-2], [0], [1], [3]])\n",
    "z_bar = 0\n",
    "B = [1, 4]\n",
    "print('LP dado:')\n",
    "display_lp(A, b, c, z_bar)\n",
    "can = canonical_form(A, b, c, z_bar, B)\n",
    "print('LP na forma canônica na base {1,4} :')\n",
    "display_lp(can[0], can[1], can[2], can[3])"
   ]
  },
  {
   "cell_type": "code",
   "execution_count": 6,
   "id": "0335139e",
   "metadata": {},
   "outputs": [
    {
     "name": "stdout",
     "output_type": "stream",
     "text": [
      "LP dado:\n"
     ]
    },
    {
     "data": {
      "text/latex": [
       "$\\displaystyle \\max \\{z(x) = \\begin{bmatrix}\n",
       "  1 & -2 & 0 & 1 & 3\\\\\n",
       "\\end{bmatrix} x + 0 : \\begin{bmatrix}\n",
       "  1 & -1 & 2 & -1 & 0\\\\\n",
       "  2 & 0 & 1 & -1 & 1\\\\\n",
       "\\end{bmatrix} x = \\begin{bmatrix}\n",
       "  1\\\\\n",
       "  -1\\\\\n",
       "\\end{bmatrix} , \\ x \\geq 0 \\}$"
      ],
      "text/plain": [
       "<IPython.core.display.Math object>"
      ]
     },
     "metadata": {},
     "output_type": "display_data"
    },
    {
     "name": "stdout",
     "output_type": "stream",
     "text": [
      "LP na forma canônica na base {3,5} :\n"
     ]
    },
    {
     "data": {
      "text/latex": [
       "$\\displaystyle \\max \\{z(x) = \\begin{bmatrix}\n",
       "  -3.5 & -3.5 & 0. & 2.5 & 0.\\\\\n",
       "\\end{bmatrix} x + -4.5 : \\begin{bmatrix}\n",
       "  0.5 & -0.5 & 1. & -0.5 & 0.\\\\\n",
       "  1.5 & 0.5 & 0. & -0.5 & 1.\\\\\n",
       "\\end{bmatrix} x = \\begin{bmatrix}\n",
       "  0.5\\\\\n",
       "  -1.5\\\\\n",
       "\\end{bmatrix} , \\ x \\geq 0 \\}$"
      ],
      "text/plain": [
       "<IPython.core.display.Math object>"
      ]
     },
     "metadata": {},
     "output_type": "display_data"
    }
   ],
   "source": [
    "A = np.array([[1, -1, 2, -1, 0],\n",
    "            [2, 0, 1, -1, 1]])\n",
    "b = np.array([[1], [-1]])\n",
    "c = np.array([[1], [-2], [0], [1], [3]])\n",
    "z_bar = 0\n",
    "B = [3, 5]\n",
    "print('LP dado:')\n",
    "display_lp(A, b, c, z_bar)\n",
    "can = canonical_form(A, b, c, z_bar, B)\n",
    "print('LP na forma canônica na base {3,5} :')\n",
    "display_lp(can[0], can[1], can[2], can[3])"
   ]
  }
 ],
 "metadata": {
  "kernelspec": {
   "display_name": "Python 3 (ipykernel)",
   "language": "python",
   "name": "python3"
  },
  "language_info": {
   "codemirror_mode": {
    "name": "ipython",
    "version": 3
   },
   "file_extension": ".py",
   "mimetype": "text/x-python",
   "name": "python",
   "nbconvert_exporter": "python",
   "pygments_lexer": "ipython3",
   "version": "3.8.3"
  }
 },
 "nbformat": 4,
 "nbformat_minor": 5
}

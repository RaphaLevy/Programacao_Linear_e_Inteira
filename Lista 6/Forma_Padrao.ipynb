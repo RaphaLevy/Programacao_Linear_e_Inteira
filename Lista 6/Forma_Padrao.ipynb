{
 "cells": [
  {
   "cell_type": "code",
   "execution_count": 1,
   "id": "a0e86ed7",
   "metadata": {},
   "outputs": [],
   "source": [
    "import numpy as np\n",
    "from IPython.display import display, Math, Latex"
   ]
  },
  {
   "cell_type": "code",
   "execution_count": 2,
   "id": "baf27697",
   "metadata": {},
   "outputs": [],
   "source": [
    "def bmatrix(a):\n",
    "    if len(a.shape) > 2:\n",
    "        raise ValueError('bmatrix can at most display two dimensions')\n",
    "    lines = np.array2string(a, max_line_width=np.infty).replace('[', '').replace(']', '').splitlines()\n",
    "    rv = [r'\\begin{bmatrix}']\n",
    "    rv += ['  ' + ' & '.join(l.split()) + r'\\\\' for l in lines]\n",
    "    rv +=  [r'\\end{bmatrix}']\n",
    "    return '\\n'.join(rv)"
   ]
  },
  {
   "cell_type": "code",
   "execution_count": 3,
   "id": "02ba3d0a",
   "metadata": {},
   "outputs": [],
   "source": [
    "def display_lp(A, b, c, z_bar):\n",
    "    code = '\\max \\{z(x) = ' + bmatrix(c.T) + ' x + ' + str(z_bar) + ' : ' + bmatrix(A) + ' x = ' + bmatrix(b) + ' , \\ x \\geq 0 \\}'\n",
    "    return display(Math(code))"
   ]
  },
  {
   "cell_type": "code",
   "execution_count": 4,
   "id": "b4b19a78",
   "metadata": {},
   "outputs": [],
   "source": [
    "def standard_form(A, b, c, z_bar, xp, s, t):\n",
    "    A_pad = A\n",
    "    b_pad = b\n",
    "    c_pad = c\n",
    "    z_bar_pad = z_bar\n",
    "    count = 0\n",
    "    for i in range(len(c_pad)):\n",
    "        i += 1\n",
    "        if i not in xp:\n",
    "            i += count\n",
    "            d = np.vstack((c_pad[:i], -c_pad[i-1]))\n",
    "            c_pad = np.vstack((d, c_pad[i:]))\n",
    "            B = np.array([-A_pad[0:,i-1]])\n",
    "            B = B.T\n",
    "            C = np.hstack((A_pad[0:,:i], B))\n",
    "            A_pad = np.hstack((C, A_pad[0:,i:]))\n",
    "            count += 1\n",
    "    for k in range(len(s)):\n",
    "        if s[k] == '<=':\n",
    "            c_pad = np.vstack((c_pad, np.array([[0]])))\n",
    "            D = np.array([np.zeros(len(b))]).T\n",
    "            D[k] = 1\n",
    "            A_pad = np.hstack((A_pad, D))\n",
    "        if s[k] == '>=':\n",
    "            c_pad = np.vstack((c_pad, np.array([[0]])))\n",
    "            D = np.array([np.zeros(len(b))]).T\n",
    "            D[k] = - 1\n",
    "            A_pad = np.hstack((A_pad, D))\n",
    "    if t == 'min':\n",
    "        c_pad = - c_pad\n",
    "    return A_pad, b_pad, c_pad, z_bar_pad"
   ]
  },
  {
   "cell_type": "code",
   "execution_count": 5,
   "id": "48cca0bc",
   "metadata": {},
   "outputs": [
    {
     "name": "stdout",
     "output_type": "stream",
     "text": [
      "LP na forma padrão:\n"
     ]
    },
    {
     "data": {
      "text/latex": [
       "$\\displaystyle \\max \\{z(x) = \\begin{bmatrix}\n",
       "  -2 & 1 & -4 & 4 & -2 & -4 & 4 & 0 & 0 & 0\\\\\n",
       "\\end{bmatrix} x + 0 : \\begin{bmatrix}\n",
       "  1. & 2. & 4. & -4. & 7. & 3. & -3. & 1. & 0. & 0.\\\\\n",
       "  2. & 8. & 9. & -9. & 0. & 0. & 0. & 0. & 0. & 0.\\\\\n",
       "  1. & 1. & 0. & 0. & 2. & 6. & -6. & 0. & -1. & 0.\\\\\n",
       "  -3. & 4. & 3. & -3. & 1. & -1. & 1. & 0. & 0. & -1.\\\\\n",
       "\\end{bmatrix} x = \\begin{bmatrix}\n",
       "  1\\\\\n",
       "  2\\\\\n",
       "  3\\\\\n",
       "  4\\\\\n",
       "\\end{bmatrix} , \\ x \\geq 0 \\}$"
      ],
      "text/plain": [
       "<IPython.core.display.Math object>"
      ]
     },
     "metadata": {},
     "output_type": "display_data"
    }
   ],
   "source": [
    "A = np.array([[1, 2, 4, 7, 3],\n",
    "              [2, 8, 9, 0, 0],\n",
    "              [1, 1, 0, 2, 6],\n",
    "              [-3, 4, 3, 1, -1]])\n",
    "b = np.array([[1], [2], [3], [4]])\n",
    "c = np.array([[2], [-1], [4], [2], [4]])\n",
    "z_bar = 0\n",
    "xp = [1, 2, 4]\n",
    "s = ['<=', '=', '>=', '>=']\n",
    "t = 'min'\n",
    "pad = standard_form(A, b, c, z_bar, xp, s, t)\n",
    "print('LP na forma padrão:')\n",
    "display_lp(pad[0], pad[1], pad[2], pad[3])"
   ]
  }
 ],
 "metadata": {
  "kernelspec": {
   "display_name": "Python 3 (ipykernel)",
   "language": "python",
   "name": "python3"
  },
  "language_info": {
   "codemirror_mode": {
    "name": "ipython",
    "version": 3
   },
   "file_extension": ".py",
   "mimetype": "text/x-python",
   "name": "python",
   "nbconvert_exporter": "python",
   "pygments_lexer": "ipython3",
   "version": "3.8.3"
  }
 },
 "nbformat": 4,
 "nbformat_minor": 5
}

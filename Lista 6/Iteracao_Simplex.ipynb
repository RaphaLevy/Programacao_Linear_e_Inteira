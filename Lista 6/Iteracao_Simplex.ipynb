{
 "cells": [
  {
   "cell_type": "code",
   "execution_count": 1,
   "metadata": {},
   "outputs": [],
   "source": [
    "import numpy as np\n",
    "from IPython.display import display, Math, Latex"
   ]
  },
  {
   "cell_type": "code",
   "execution_count": 2,
   "metadata": {},
   "outputs": [],
   "source": [
    "def bmatrix(a):\n",
    "    if len(a.shape) > 2:\n",
    "        raise ValueError('bmatrix can at most display two dimensions')\n",
    "    lines = np.array2string(a, max_line_width=np.infty).replace('[', '').replace(']', '').splitlines()\n",
    "    rv = [r'\\begin{bmatrix}']\n",
    "    rv += ['  ' + ' & '.join(l.split()) + r'\\\\' for l in lines]\n",
    "    rv +=  [r'\\end{bmatrix}']\n",
    "    return '\\n'.join(rv)"
   ]
  },
  {
   "cell_type": "code",
   "execution_count": 3,
   "metadata": {},
   "outputs": [],
   "source": [
    "def simplex_iteration(A, b, c, z_bar, x_bar, i, j):\n",
    "    z_x_bar = c.T @ x_bar\n",
    "    i -= 1\n",
    "    j -= 1\n",
    "    t = var('t')\n",
    "    B = np.array([A[:,i]])\n",
    "    B = B.T\n",
    "    C = np.array([A[:,j].T])\n",
    "    C = C.T\n",
    "    x = b - t * B - x_bar[j] * C\n",
    "    l = []\n",
    "    for k in x:\n",
    "        n = solve([k[0]==0], t)\n",
    "        n = n[0].rhs()\n",
    "        if n >= 0:\n",
    "            l.append(n)\n",
    "    if len(l) == 0:\n",
    "        return \"Problema ilimitado\"\n",
    "    t_r = max(l)\n",
    "    sol = np.zeros(len(b)+2)\n",
    "    sol[i] = t_r\n",
    "    sol[j] = z_bar\n",
    "    for d in range(len(b)):\n",
    "        exp = x[d][0]\n",
    "        if i < d < j or j < d < i:\n",
    "            d += 1\n",
    "        if d > i and d > j:\n",
    "            d += 2\n",
    "        sol[d] = exp({t:t_r})\n",
    "    sol = np.array([sol]).T\n",
    "    z_sol = c.T @ sol\n",
    "    if z_sol < z_x_bar:\n",
    "        sol = x_bar\n",
    "    return sol"
   ]
  },
  {
   "cell_type": "code",
   "execution_count": 4,
   "metadata": {},
   "outputs": [
    {
     "name": "stdout",
     "output_type": "stream",
     "text": [
      "Solução dada:\n"
     ]
    },
    {
     "data": {
      "text/latex": [
       "$\\displaystyle \\begin{bmatrix}\n",
       "  0\\\\\n",
       "  2\\\\\n",
       "  3\\\\\n",
       "  0\\\\\n",
       "\\end{bmatrix}$"
      ],
      "text/plain": [
       "<IPython.core.display.Math object>"
      ]
     },
     "metadata": {},
     "output_type": "display_data"
    },
    {
     "name": "stdout",
     "output_type": "stream",
     "text": [
      "Solução encontrada pela iteração simplex:\n"
     ]
    },
    {
     "data": {
      "text/latex": [
       "$\\displaystyle \\begin{bmatrix}\n",
       "  0\\\\\n",
       "  2\\\\\n",
       "  3\\\\\n",
       "  0\\\\\n",
       "\\end{bmatrix}$"
      ],
      "text/plain": [
       "<IPython.core.display.Math object>"
      ]
     },
     "metadata": {},
     "output_type": "display_data"
    }
   ],
   "source": [
    "A = np.array([[-1, 1, 0, 2],\n",
    "              [1, 0, 1, -3]])\n",
    "b = np.array([[2], [3]])\n",
    "c = np.array([[-1], [0], [0], [2]])\n",
    "z_bar = 0\n",
    "x_bar = np.array([[0], [2], [3], [0]])\n",
    "i = 1\n",
    "j = 4\n",
    "print('Solução dada:')\n",
    "code = bmatrix(x_bar)\n",
    "display(Math(code))\n",
    "print('Solução encontrada pela iteração simplex:')\n",
    "sol = simplex_iteration(A, b, c, z_bar, x_bar, i, j)\n",
    "code = bmatrix(sol)\n",
    "display(Math(code))"
   ]
  },
  {
   "cell_type": "code",
   "execution_count": 5,
   "metadata": {},
   "outputs": [
    {
     "name": "stdout",
     "output_type": "stream",
     "text": [
      "Solução dada:\n"
     ]
    },
    {
     "data": {
      "text/latex": [
       "$\\displaystyle \\begin{bmatrix}\n",
       "  0\\\\\n",
       "  2\\\\\n",
       "  3\\\\\n",
       "  0\\\\\n",
       "\\end{bmatrix}$"
      ],
      "text/plain": [
       "<IPython.core.display.Math object>"
      ]
     },
     "metadata": {},
     "output_type": "display_data"
    },
    {
     "name": "stdout",
     "output_type": "stream",
     "text": [
      "Solução encontrada pela iteração simplex:\n"
     ]
    },
    {
     "data": {
      "text/latex": [
       "$\\displaystyle \\begin{bmatrix}\n",
       "  0.\\\\\n",
       "  0.\\\\\n",
       "  6.\\\\\n",
       "  1.\\\\\n",
       "\\end{bmatrix}$"
      ],
      "text/plain": [
       "<IPython.core.display.Math object>"
      ]
     },
     "metadata": {},
     "output_type": "display_data"
    }
   ],
   "source": [
    "A = np.array([[-1, 1, 0, 2],\n",
    "              [1, 0, 1, -3]])\n",
    "b = np.array([[2], [3]])\n",
    "c = np.array([[-1], [0], [0], [2]])\n",
    "z_bar = 0\n",
    "x_bar = np.array([[0], [2], [3], [0]])\n",
    "i = 4\n",
    "j = 1\n",
    "print('Solução dada:')\n",
    "code = bmatrix(x_bar)\n",
    "display(Math(code))\n",
    "print('Solução encontrada pela iteração simplex:')\n",
    "sol = simplex_iteration(A, b, c, z_bar, x_bar, i, j)\n",
    "code = bmatrix(sol)\n",
    "display(Math(code))"
   ]
  },
  {
   "cell_type": "code",
   "execution_count": 6,
   "metadata": {},
   "outputs": [
    {
     "name": "stdout",
     "output_type": "stream",
     "text": [
      "Solução dada:\n"
     ]
    },
    {
     "data": {
      "text/latex": [
       "$\\displaystyle \\begin{bmatrix}\n",
       "  2\\\\\n",
       "  1\\\\\n",
       "  0\\\\\n",
       "  0\\\\\n",
       "\\end{bmatrix}$"
      ],
      "text/plain": [
       "<IPython.core.display.Math object>"
      ]
     },
     "metadata": {},
     "output_type": "display_data"
    },
    {
     "name": "stdout",
     "output_type": "stream",
     "text": [
      "Solução encontrada pela iteração simplex:\n",
      "Problema ilimitado\n"
     ]
    }
   ],
   "source": [
    "A = np.array([[1, 0, -1, 1],\n",
    "              [0, 1, -3, 2]])\n",
    "b = np.array([[2], [1]])\n",
    "c = np.array([[0], [0], [4], [-6]])\n",
    "z_bar = 0\n",
    "x_bar = np.array([[2], [1], [0], [0]])\n",
    "i = 3\n",
    "j = 4\n",
    "print('Solução dada:')\n",
    "code = bmatrix(x_bar)\n",
    "display(Math(code))\n",
    "print('Solução encontrada pela iteração simplex:')\n",
    "sol = simplex_iteration(A, b, c, z_bar, x_bar, i, j)\n",
    "print(sol)"
   ]
  },
  {
   "cell_type": "code",
   "execution_count": 7,
   "metadata": {},
   "outputs": [
    {
     "name": "stdout",
     "output_type": "stream",
     "text": [
      "Solução dada:\n"
     ]
    },
    {
     "data": {
      "text/latex": [
       "$\\displaystyle \\begin{bmatrix}\n",
       "  2\\\\\n",
       "  1\\\\\n",
       "  0\\\\\n",
       "  0\\\\\n",
       "\\end{bmatrix}$"
      ],
      "text/plain": [
       "<IPython.core.display.Math object>"
      ]
     },
     "metadata": {},
     "output_type": "display_data"
    },
    {
     "name": "stdout",
     "output_type": "stream",
     "text": [
      "Solução encontrada pela iteração simplex:\n"
     ]
    },
    {
     "data": {
      "text/latex": [
       "$\\displaystyle \\begin{bmatrix}\n",
       "  2\\\\\n",
       "  1\\\\\n",
       "  0\\\\\n",
       "  0\\\\\n",
       "\\end{bmatrix}$"
      ],
      "text/plain": [
       "<IPython.core.display.Math object>"
      ]
     },
     "metadata": {},
     "output_type": "display_data"
    }
   ],
   "source": [
    "A = np.array([[1, 0, -1, 1],\n",
    "              [0, 1, -3, 2]])\n",
    "b = np.array([[2], [1]])\n",
    "c = np.array([[0], [0], [4], [-6]])\n",
    "z_bar = 0\n",
    "x_bar = np.array([[2], [1], [0], [0]])\n",
    "i = 4\n",
    "j = 3\n",
    "print('Solução dada:')\n",
    "code = bmatrix(x_bar)\n",
    "display(Math(code))\n",
    "print('Solução encontrada pela iteração simplex:')\n",
    "sol = simplex_iteration(A, b, c, z_bar, x_bar, i, j)\n",
    "code = bmatrix(sol)\n",
    "display(Math(code))"
   ]
  }
 ],
 "metadata": {
  "kernelspec": {
   "display_name": "SageMath 9.2",
   "language": "sage",
   "name": "sagemath"
  },
  "language_info": {
   "codemirror_mode": {
    "name": "ipython",
    "version": 3
   },
   "file_extension": ".py",
   "mimetype": "text/x-python",
   "name": "python",
   "nbconvert_exporter": "python",
   "pygments_lexer": "ipython3",
   "version": "3.7.7"
  }
 },
 "nbformat": 4,
 "nbformat_minor": 4
}

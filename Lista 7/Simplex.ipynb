{
 "cells": [
  {
   "cell_type": "code",
   "execution_count": 1,
   "metadata": {},
   "outputs": [],
   "source": [
    "import math\n",
    "import numpy as np"
   ]
  },
  {
   "cell_type": "code",
   "execution_count": 2,
   "metadata": {},
   "outputs": [],
   "source": [
    "def to_tableau(c, A, b):\n",
    "    xb = [eq + [x] for eq, x in zip(A, b)]\n",
    "    z = c + [0]\n",
    "    return xb + [z]"
   ]
  },
  {
   "cell_type": "code",
   "execution_count": 3,
   "metadata": {},
   "outputs": [],
   "source": [
    "def can_be_improved(tableau):\n",
    "    z = tableau[-1]\n",
    "    return any(x > 0 for x in z[:-1])"
   ]
  },
  {
   "cell_type": "code",
   "execution_count": 4,
   "metadata": {},
   "outputs": [],
   "source": [
    "def get_pivot_position(tableau):\n",
    "    z = tableau[-1]\n",
    "    column = next(i for i, x in enumerate(z[:-1]) if x > 0)\n",
    "    \n",
    "    restrictions = []\n",
    "    for eq in tableau[:-1]:\n",
    "        el = eq[column]\n",
    "        restrictions.append(math.inf if el <= 0 else eq[-1] / el)\n",
    "        \n",
    "    if (all([r == math.inf for r in restrictions])):\n",
    "        raise Exception(\"Linear program is unbounded.\")\n",
    "\n",
    "    row = restrictions.index(min(restrictions))\n",
    "    print(row, column)\n",
    "    return row, column"
   ]
  },
  {
   "cell_type": "code",
   "execution_count": 5,
   "metadata": {},
   "outputs": [],
   "source": [
    "def pivot_step(tableau, pivot_position):\n",
    "    new_tableau = [[] for eq in tableau]\n",
    "    \n",
    "    i, j = pivot_position\n",
    "    pivot_value = tableau[i][j]\n",
    "    new_tableau[i] = np.array(tableau[i]) / pivot_value\n",
    "    \n",
    "    for eq_i, eq in enumerate(tableau):\n",
    "        if eq_i != i:\n",
    "            multiplier = np.array(new_tableau[i]) * tableau[eq_i][j]\n",
    "            new_tableau[eq_i] = np.array(tableau[eq_i]) - multiplier\n",
    "    print(new_tableau)\n",
    "    return new_tableau"
   ]
  },
  {
   "cell_type": "code",
   "execution_count": 6,
   "metadata": {},
   "outputs": [],
   "source": [
    "def is_basic(column):\n",
    "    return sum(column) == 1 and len([c for c in column if c == 0]) == len(column) - 1"
   ]
  },
  {
   "cell_type": "code",
   "execution_count": 7,
   "metadata": {},
   "outputs": [],
   "source": [
    "def get_solution(tableau):\n",
    "    columns = np.array(tableau).T\n",
    "    solutions = []\n",
    "    print(columns.T)\n",
    "    for column in columns[:-1]:\n",
    "        solution = 0\n",
    "        if is_basic(column):\n",
    "            one_index = column.tolist().index(1)\n",
    "            solution = columns[-1][one_index]\n",
    "        solutions.append(solution)\n",
    "    \n",
    "    return solutions"
   ]
  },
  {
   "cell_type": "code",
   "execution_count": 8,
   "metadata": {},
   "outputs": [],
   "source": [
    "def simplex(c, A, b):\n",
    "    tableau = to_tableau(c, A, b)\n",
    "\n",
    "    while can_be_improved(tableau):\n",
    "        pivot_position = get_pivot_position(tableau)\n",
    "        tableau = pivot_step(tableau, pivot_position)\n",
    "\n",
    "    return get_solution(tableau)"
   ]
  },
  {
   "cell_type": "code",
   "execution_count": 9,
   "metadata": {},
   "outputs": [],
   "source": [
    "def get_objective_function_value(tableau):\n",
    "    return -tableau[-1][-1]"
   ]
  },
  {
   "cell_type": "code",
   "execution_count": 10,
   "metadata": {},
   "outputs": [],
   "source": [
    "def to_objective_function_value(c, solution):\n",
    "    return sum(np.array(c) * np.array(solution))"
   ]
  },
  {
   "cell_type": "code",
   "execution_count": 11,
   "metadata": {},
   "outputs": [],
   "source": [
    "def can_be_improved_for_dual(tableau):\n",
    "    rhs_entries = [row[-1] for row in tableau[:-1]]\n",
    "    return any([entry < 0 for entry in rhs_entries])"
   ]
  },
  {
   "cell_type": "code",
   "execution_count": 12,
   "metadata": {},
   "outputs": [],
   "source": [
    "def get_pivot_position_for_dual(tableau):\n",
    "    rhs_entries = [row[-1] for row in tableau[:-1]]\n",
    "    min_rhs_value = min(rhs_entries)\n",
    "    row = rhs_entries.index(min_rhs_value)\n",
    "    \n",
    "    columns = []\n",
    "    for index, element in enumerate(tableau[row][:-1]):\n",
    "        if element < 0:\n",
    "            columns.append(index)\n",
    "    columns_values = [tableau[row][c] / tableau[-1][c] for c in columns]\n",
    "    column_min_index = columns_values.index(min(columns_values))\n",
    "    column = columns[column_min_index]\n",
    "\n",
    "    return row, column"
   ]
  },
  {
   "cell_type": "code",
   "execution_count": 13,
   "metadata": {},
   "outputs": [],
   "source": [
    "def dual_simplex(c, A, b):\n",
    "    tableau = to_tableau(c, A, b)\n",
    "\n",
    "    while can_be_improved_for_dual(tableau):\n",
    "        pivot_position = get_pivot_position_for_dual(tableau)\n",
    "        tableau = pivot_step(tableau, pivot_position)\n",
    "\n",
    "    return get_solution(tableau)"
   ]
  },
  {
   "cell_type": "code",
   "execution_count": 14,
   "metadata": {},
   "outputs": [],
   "source": [
    "A = [[1, 2, -2, 0],\n",
    "     [0, 1, 3, 1]]\n",
    "b = [2, 5]\n",
    "c = [0, 3, 1, 0]"
   ]
  },
  {
   "cell_type": "code",
   "execution_count": 15,
   "metadata": {},
   "outputs": [
    {
     "name": "stdout",
     "output_type": "stream",
     "text": [
      "0 1\n",
      "[array([ 0.5,  1. , -1. ,  0. ,  1. ]), array([-0.5,  0. ,  4. ,  1. ,  4. ]), array([-1.5,  0. ,  4. ,  0. , -3. ])]\n",
      "1 2\n",
      "[array([0.375, 1.   , 0.   , 0.25 , 2.   ]), array([-0.125,  0.   ,  1.   ,  0.25 ,  1.   ]), array([-1.,  0.,  0., -1., -7.])]\n",
      "[[ 0.375  1.     0.     0.25   2.   ]\n",
      " [-0.125  0.     1.     0.25   1.   ]\n",
      " [-1.     0.     0.    -1.    -7.   ]]\n",
      "solution:  [0, 2.0, 1.0, 0]\n"
     ]
    }
   ],
   "source": [
    "solution = simplex(c, A, b)\n",
    "print('solution: ', solution)"
   ]
  },
  {
   "cell_type": "code",
   "execution_count": 16,
   "metadata": {},
   "outputs": [
    {
     "name": "stdout",
     "output_type": "stream",
     "text": [
      "0 1\n",
      "[array([ 0.5,  1. , -1. ,  0. ,  1. ]), array([-0.5,  0. ,  4. ,  1. ,  4. ]), array([-1.5,  0. ,  4. ,  0. , -3. ])]\n",
      "1 2\n",
      "[array([0.375, 1.   , 0.   , 0.25 , 2.   ]), array([-0.125,  0.   ,  1.   ,  0.25 ,  1.   ]), array([-1.,  0.,  0., -1., -7.])]\n",
      "[[ 0.375  1.     0.     0.25   2.   ]\n",
      " [-0.125  0.     1.     0.25   1.   ]\n",
      " [-1.     0.     0.    -1.    -7.   ]]\n",
      "Primal:  7.0\n"
     ]
    }
   ],
   "source": [
    "primal = to_objective_function_value(c, simplex(c, A, b))\n",
    "print('Primal: ', primal)"
   ]
  },
  {
   "cell_type": "code",
   "execution_count": 17,
   "metadata": {},
   "outputs": [
    {
     "name": "stdout",
     "output_type": "stream",
     "text": [
      "[[ 1  2 -2  0  2]\n",
      " [ 0  1  3  1  5]\n",
      " [ 0  3  1  0  0]]\n",
      "Dual:  0\n"
     ]
    }
   ],
   "source": [
    "dual = to_objective_function_value(c, dual_simplex(c, A, b))\n",
    "print('Dual: ', dual)"
   ]
  },
  {
   "cell_type": "code",
   "execution_count": 18,
   "metadata": {},
   "outputs": [],
   "source": [
    "A = [[1, 4, 0, 0, -1, 1],\n",
    "     [0, -3, 1, 0, 5, -1],\n",
    "     [0, -2, 0, 1, 2, 0.5]]\n",
    "b = [0.5, 1.25, 0.625]\n",
    "c = [0, -1, 0, 0, -3, 1]"
   ]
  },
  {
   "cell_type": "code",
   "execution_count": 19,
   "metadata": {},
   "outputs": [
    {
     "name": "stdout",
     "output_type": "stream",
     "text": [
      "0 5\n",
      "[array([ 1. ,  4. ,  0. ,  0. , -1. ,  1. ,  0.5]), array([1.  , 1.  , 1.  , 0.  , 4.  , 0.  , 1.75]), array([-0.5  , -4.   ,  0.   ,  1.   ,  2.5  ,  0.   ,  0.375]), array([-1. , -5. ,  0. ,  0. , -2. ,  0. , -0.5])]\n",
      "[[ 1.     4.     0.     0.    -1.     1.     0.5  ]\n",
      " [ 1.     1.     1.     0.     4.     0.     1.75 ]\n",
      " [-0.5   -4.     0.     1.     2.5    0.     0.375]\n",
      " [-1.    -5.     0.     0.    -2.     0.    -0.5  ]]\n",
      "solution:  [0, 0, 1.75, 0.375, 0, 0.5]\n"
     ]
    }
   ],
   "source": [
    "solution = simplex(c, A, b)\n",
    "print('solution: ', solution)"
   ]
  },
  {
   "cell_type": "code",
   "execution_count": 20,
   "metadata": {},
   "outputs": [
    {
     "name": "stdout",
     "output_type": "stream",
     "text": [
      "0 5\n",
      "[array([ 1. ,  4. ,  0. ,  0. , -1. ,  1. ,  0.5]), array([1.  , 1.  , 1.  , 0.  , 4.  , 0.  , 1.75]), array([-0.5  , -4.   ,  0.   ,  1.   ,  2.5  ,  0.   ,  0.375]), array([-1. , -5. ,  0. ,  0. , -2. ,  0. , -0.5])]\n",
      "[[ 1.     4.     0.     0.    -1.     1.     0.5  ]\n",
      " [ 1.     1.     1.     0.     4.     0.     1.75 ]\n",
      " [-0.5   -4.     0.     1.     2.5    0.     0.375]\n",
      " [-1.    -5.     0.     0.    -2.     0.    -0.5  ]]\n",
      "Primal:  0.5\n"
     ]
    }
   ],
   "source": [
    "primal = to_objective_function_value(c, simplex(c, A, b))\n",
    "print('Primal: ', primal)"
   ]
  },
  {
   "cell_type": "code",
   "execution_count": 21,
   "metadata": {},
   "outputs": [
    {
     "name": "stdout",
     "output_type": "stream",
     "text": [
      "[[ 1.     4.     0.     0.    -1.     1.     0.5  ]\n",
      " [ 0.    -3.     1.     0.     5.    -1.     1.25 ]\n",
      " [ 0.    -2.     0.     1.     2.     0.5    0.625]\n",
      " [ 0.    -1.     0.     0.    -3.     1.     0.   ]]\n",
      "Dual:  0.0\n"
     ]
    }
   ],
   "source": [
    "dual = to_objective_function_value(c, dual_simplex(c, A, b))\n",
    "print('Dual: ', dual)"
   ]
  },
  {
   "cell_type": "code",
   "execution_count": 22,
   "metadata": {},
   "outputs": [],
   "source": [
    "A = [[-2, 1, 1, 1, 0, 0],\n",
    "     [1, -1, 0, 0, 1, 0],\n",
    "     [2, -3, -1, 0, 0, 1]]\n",
    "b = [1, 2, 6]\n",
    "c = [2, 1, -1, 0, 0, 0]"
   ]
  },
  {
   "cell_type": "code",
   "execution_count": 23,
   "metadata": {},
   "outputs": [
    {
     "name": "stdout",
     "output_type": "stream",
     "text": [
      "1 0\n",
      "[array([ 0., -1.,  1.,  1.,  2.,  0.,  5.]), array([ 1., -1.,  0.,  0.,  1.,  0.,  2.]), array([ 0., -1., -1.,  0., -2.,  1.,  2.]), array([ 0.,  3., -1.,  0., -2.,  0., -4.])]\n",
      "Linear program is unbounded.\n"
     ]
    }
   ],
   "source": [
    "try: \n",
    "    simplex(c, A, b)\n",
    "except Exception as e:\n",
    "    print(e)"
   ]
  },
  {
   "cell_type": "code",
   "execution_count": 24,
   "metadata": {},
   "outputs": [
    {
     "name": "stdout",
     "output_type": "stream",
     "text": [
      "[[-2  1  1  1  0  0  1]\n",
      " [ 1 -1  0  0  1  0  2]\n",
      " [ 2 -3 -1  0  0  1  6]\n",
      " [ 2  1 -1  0  0  0  0]]\n",
      "Dual:  0\n"
     ]
    }
   ],
   "source": [
    "dual = to_objective_function_value(c, dual_simplex(c, A, b))\n",
    "print('Dual: ', dual)"
   ]
  },
  {
   "cell_type": "code",
   "execution_count": 25,
   "metadata": {},
   "outputs": [],
   "source": [
    "A = [[1, 2, 2, 1, 1, 0],\n",
    "     [0, 1, 1, 2, 0, 1]]\n",
    "b = [6, 10]\n",
    "c = [1, 2, 3, 2, 0, 0]"
   ]
  },
  {
   "cell_type": "code",
   "execution_count": 26,
   "metadata": {},
   "outputs": [
    {
     "name": "stdout",
     "output_type": "stream",
     "text": [
      "0 0\n",
      "[array([1., 2., 2., 1., 1., 0., 6.]), array([ 0.,  1.,  1.,  2.,  0.,  1., 10.]), array([ 0.,  0.,  1.,  1., -1.,  0., -6.])]\n",
      "0 2\n",
      "[array([0.5, 1. , 1. , 0.5, 0.5, 0. , 3. ]), array([-0.5,  0. ,  0. ,  1.5, -0.5,  1. ,  7. ]), array([-0.5, -1. ,  0. ,  0.5, -1.5,  0. , -9. ])]\n",
      "1 3\n",
      "[array([ 0.66666667,  1.        ,  1.        ,  0.        ,  0.66666667,\n",
      "       -0.33333333,  0.66666667]), array([-0.33333333,  0.        ,  0.        ,  1.        , -0.33333333,\n",
      "        0.66666667,  4.66666667]), array([ -0.33333333,  -1.        ,   0.        ,   0.        ,\n",
      "        -1.33333333,  -0.33333333, -11.33333333])]\n",
      "[[  0.66666667   1.           1.           0.           0.66666667\n",
      "   -0.33333333   0.66666667]\n",
      " [ -0.33333333   0.           0.           1.          -0.33333333\n",
      "    0.66666667   4.66666667]\n",
      " [ -0.33333333  -1.           0.           0.          -1.33333333\n",
      "   -0.33333333 -11.33333333]]\n",
      "solution:  [0, 0, 0.6666666666666665, 4.666666666666667, 0, 0]\n"
     ]
    }
   ],
   "source": [
    "solution = simplex(c, A, b)\n",
    "print('solution: ', solution)"
   ]
  },
  {
   "cell_type": "code",
   "execution_count": 27,
   "metadata": {},
   "outputs": [
    {
     "name": "stdout",
     "output_type": "stream",
     "text": [
      "0 0\n",
      "[array([1., 2., 2., 1., 1., 0., 6.]), array([ 0.,  1.,  1.,  2.,  0.,  1., 10.]), array([ 0.,  0.,  1.,  1., -1.,  0., -6.])]\n",
      "0 2\n",
      "[array([0.5, 1. , 1. , 0.5, 0.5, 0. , 3. ]), array([-0.5,  0. ,  0. ,  1.5, -0.5,  1. ,  7. ]), array([-0.5, -1. ,  0. ,  0.5, -1.5,  0. , -9. ])]\n",
      "1 3\n",
      "[array([ 0.66666667,  1.        ,  1.        ,  0.        ,  0.66666667,\n",
      "       -0.33333333,  0.66666667]), array([-0.33333333,  0.        ,  0.        ,  1.        , -0.33333333,\n",
      "        0.66666667,  4.66666667]), array([ -0.33333333,  -1.        ,   0.        ,   0.        ,\n",
      "        -1.33333333,  -0.33333333, -11.33333333])]\n",
      "[[  0.66666667   1.           1.           0.           0.66666667\n",
      "   -0.33333333   0.66666667]\n",
      " [ -0.33333333   0.           0.           1.          -0.33333333\n",
      "    0.66666667   4.66666667]\n",
      " [ -0.33333333  -1.           0.           0.          -1.33333333\n",
      "   -0.33333333 -11.33333333]]\n",
      "Primal:  11.333333333333334\n"
     ]
    }
   ],
   "source": [
    "primal = to_objective_function_value(c, simplex(c, A, b))\n",
    "print('Primal: ', primal)"
   ]
  },
  {
   "cell_type": "code",
   "execution_count": 28,
   "metadata": {},
   "outputs": [
    {
     "name": "stdout",
     "output_type": "stream",
     "text": [
      "[[ 1  2  2  1  1  0  6]\n",
      " [ 0  1  1  2  0  1 10]\n",
      " [ 1  2  3  2  0  0  0]]\n",
      "Dual:  0\n"
     ]
    }
   ],
   "source": [
    "dual = to_objective_function_value(c, dual_simplex(c, A, b))\n",
    "print('Dual: ', dual)"
   ]
  }
 ],
 "metadata": {
  "kernelspec": {
   "display_name": "Python 3 (ipykernel)",
   "language": "python",
   "name": "python3"
  },
  "language_info": {
   "codemirror_mode": {
    "name": "ipython",
    "version": 3
   },
   "file_extension": ".py",
   "mimetype": "text/x-python",
   "name": "python",
   "nbconvert_exporter": "python",
   "pygments_lexer": "ipython3",
   "version": "3.9.7"
  }
 },
 "nbformat": 4,
 "nbformat_minor": 4
}
